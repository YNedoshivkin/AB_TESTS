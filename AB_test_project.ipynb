{
 "cells": [
  {
   "cell_type": "markdown",
   "id": "6f8dfbe9-90d9-403e-a476-1678c3b38adf",
   "metadata": {},
   "source": [
    "**Задание**  \n",
    "Компания тестирует изменение дизайна сайта:  \n",
    "\n",
    "Группа A (контрольная): Белый фон (текущая версия).  \n",
    "Группа B (тестовая): Черный фон (новая версия).  \n",
    "\n",
    "Цель: Проверить, увеличивает ли новый фон (черный) вовлеченность пользователей (время на сайте, конверсия).  \n",
    "\n",
    "Описание столбцов представлено ниже:  \n",
    "- User ID (Идентификатор пользователя): Уникальный идентификатор каждого пользователя.  \n",
    "- Group (Группа): Содержит контрольную группу (A) и тестовую группу (B).  \n",
    "- Time Spent (Время на сайте): Общее количество времени (в секундах), которое пользователь провел на сайте.  \n",
    "- Conversion (Конверсия): Показывает, выполнил ли пользователь целевое действие («Yes»/«No»).  \n",
    "\n",
    "**Я решил усложнить данное задание, сгенерировав столбец avg_session_time (среднее время сессии) для того, чтобы охватить все ключевые типы метрик.** "
   ]
  },
  {
   "cell_type": "code",
   "execution_count": 342,
   "id": "96133a41-cfc4-4c4a-b420-a3aac6622975",
   "metadata": {},
   "outputs": [],
   "source": [
    "# блок импортов\n",
    "import numpy as np\n",
    "import pandas as pd\n",
    "import seaborn as sns\n",
    "import matplotlib.pyplot as plt\n",
    "\n",
    "from scipy.stats import  norm, shapiro, levene, ttest_ind, chi2_contingency, mannwhitneyu\n",
    "from statsmodels.stats.proportion import proportions_ztest, confint_proportions_2indep\n",
    "from statsmodels.stats.weightstats import CompareMeans\n",
    " "
   ]
  },
  {
   "cell_type": "markdown",
   "id": "6135d6fd-5df2-4ef1-9e50-685eef2859f2",
   "metadata": {},
   "source": [
    "**1) Первичный осмотр данных (EDA)**"
   ]
  },
  {
   "cell_type": "code",
   "execution_count": 343,
   "id": "e7c1a63b-01d5-4d3e-8e2c-728cea8651a0",
   "metadata": {},
   "outputs": [
    {
     "name": "stdout",
     "output_type": "stream",
     "text": [
      "------------------------------- SHAPE --------------------------------\n",
      "(5000, 4)\n",
      "----------------------------- DATA TYPES -----------------------------\n",
      "User ID        int64\n",
      "Group         object\n",
      "Time Spent     int64\n",
      "Conversion    object\n",
      "dtype: object\n",
      "---------------------------- NULL VALUES -----------------------------\n",
      "User ID       0\n",
      "Group         0\n",
      "Time Spent    0\n",
      "Conversion    0\n"
     ]
    },
    {
     "data": {
      "text/html": [
       "<div>\n",
       "<style scoped>\n",
       "    .dataframe tbody tr th:only-of-type {\n",
       "        vertical-align: middle;\n",
       "    }\n",
       "\n",
       "    .dataframe tbody tr th {\n",
       "        vertical-align: top;\n",
       "    }\n",
       "\n",
       "    .dataframe thead th {\n",
       "        text-align: right;\n",
       "    }\n",
       "</style>\n",
       "<table border=\"1\" class=\"dataframe\">\n",
       "  <thead>\n",
       "    <tr style=\"text-align: right;\">\n",
       "      <th></th>\n",
       "      <th>User ID</th>\n",
       "      <th>Group</th>\n",
       "      <th>Time Spent</th>\n",
       "      <th>Conversion</th>\n",
       "    </tr>\n",
       "  </thead>\n",
       "  <tbody>\n",
       "    <tr>\n",
       "      <th>count</th>\n",
       "      <td>5000.000000</td>\n",
       "      <td>5000</td>\n",
       "      <td>5000.000000</td>\n",
       "      <td>5000</td>\n",
       "    </tr>\n",
       "    <tr>\n",
       "      <th>unique</th>\n",
       "      <td>NaN</td>\n",
       "      <td>2</td>\n",
       "      <td>NaN</td>\n",
       "      <td>2</td>\n",
       "    </tr>\n",
       "    <tr>\n",
       "      <th>top</th>\n",
       "      <td>NaN</td>\n",
       "      <td>A</td>\n",
       "      <td>NaN</td>\n",
       "      <td>No</td>\n",
       "    </tr>\n",
       "    <tr>\n",
       "      <th>freq</th>\n",
       "      <td>NaN</td>\n",
       "      <td>2519</td>\n",
       "      <td>NaN</td>\n",
       "      <td>4515</td>\n",
       "    </tr>\n",
       "    <tr>\n",
       "      <th>mean</th>\n",
       "      <td>14925.159000</td>\n",
       "      <td>NaN</td>\n",
       "      <td>242.512600</td>\n",
       "      <td>NaN</td>\n",
       "    </tr>\n",
       "    <tr>\n",
       "      <th>std</th>\n",
       "      <td>2869.153773</td>\n",
       "      <td>NaN</td>\n",
       "      <td>118.254153</td>\n",
       "      <td>NaN</td>\n",
       "    </tr>\n",
       "    <tr>\n",
       "      <th>min</th>\n",
       "      <td>10001.000000</td>\n",
       "      <td>NaN</td>\n",
       "      <td>40.000000</td>\n",
       "      <td>NaN</td>\n",
       "    </tr>\n",
       "    <tr>\n",
       "      <th>25%</th>\n",
       "      <td>12456.250000</td>\n",
       "      <td>NaN</td>\n",
       "      <td>137.000000</td>\n",
       "      <td>NaN</td>\n",
       "    </tr>\n",
       "    <tr>\n",
       "      <th>50%</th>\n",
       "      <td>14858.500000</td>\n",
       "      <td>NaN</td>\n",
       "      <td>243.000000</td>\n",
       "      <td>NaN</td>\n",
       "    </tr>\n",
       "    <tr>\n",
       "      <th>75%</th>\n",
       "      <td>17379.750000</td>\n",
       "      <td>NaN</td>\n",
       "      <td>346.000000</td>\n",
       "      <td>NaN</td>\n",
       "    </tr>\n",
       "    <tr>\n",
       "      <th>max</th>\n",
       "      <td>19995.000000</td>\n",
       "      <td>NaN</td>\n",
       "      <td>449.000000</td>\n",
       "      <td>NaN</td>\n",
       "    </tr>\n",
       "  </tbody>\n",
       "</table>\n",
       "</div>"
      ],
      "text/plain": [
       "             User ID Group   Time Spent Conversion\n",
       "count    5000.000000  5000  5000.000000       5000\n",
       "unique           NaN     2          NaN          2\n",
       "top              NaN     A          NaN         No\n",
       "freq             NaN  2519          NaN       4515\n",
       "mean    14925.159000   NaN   242.512600        NaN\n",
       "std      2869.153773   NaN   118.254153        NaN\n",
       "min     10001.000000   NaN    40.000000        NaN\n",
       "25%     12456.250000   NaN   137.000000        NaN\n",
       "50%     14858.500000   NaN   243.000000        NaN\n",
       "75%     17379.750000   NaN   346.000000        NaN\n",
       "max     19995.000000   NaN   449.000000        NaN"
      ]
     },
     "execution_count": 343,
     "metadata": {},
     "output_type": "execute_result"
    }
   ],
   "source": [
    "data = pd.read_csv('ab_testing.csv', delimiter=';')\n",
    "print(' SHAPE '.center(70, '-'))\n",
    "print(data.shape)\n",
    "print(' DATA TYPES '.center(70, '-'))\n",
    "print(data.dtypes)\n",
    "print(' NULL VALUES '.center(70, '-'))\n",
    "print(data.isnull().sum().to_string())\n",
    "\n",
    "data.describe(include='all')"
   ]
  },
  {
   "cell_type": "code",
   "execution_count": 344,
   "id": "8f929add-b149-49aa-ba06-a175858d0a28",
   "metadata": {},
   "outputs": [
    {
     "data": {
      "text/html": [
       "<div>\n",
       "<style scoped>\n",
       "    .dataframe tbody tr th:only-of-type {\n",
       "        vertical-align: middle;\n",
       "    }\n",
       "\n",
       "    .dataframe tbody tr th {\n",
       "        vertical-align: top;\n",
       "    }\n",
       "\n",
       "    .dataframe thead th {\n",
       "        text-align: right;\n",
       "    }\n",
       "</style>\n",
       "<table border=\"1\" class=\"dataframe\">\n",
       "  <thead>\n",
       "    <tr style=\"text-align: right;\">\n",
       "      <th></th>\n",
       "      <th>User ID</th>\n",
       "      <th>Group</th>\n",
       "      <th>Time Spent</th>\n",
       "      <th>Conversion</th>\n",
       "    </tr>\n",
       "  </thead>\n",
       "  <tbody>\n",
       "    <tr>\n",
       "      <th>0</th>\n",
       "      <td>14292</td>\n",
       "      <td>B</td>\n",
       "      <td>424</td>\n",
       "      <td>No</td>\n",
       "    </tr>\n",
       "    <tr>\n",
       "      <th>1</th>\n",
       "      <td>11682</td>\n",
       "      <td>A</td>\n",
       "      <td>342</td>\n",
       "      <td>No</td>\n",
       "    </tr>\n",
       "    <tr>\n",
       "      <th>2</th>\n",
       "      <td>19825</td>\n",
       "      <td>A</td>\n",
       "      <td>396</td>\n",
       "      <td>No</td>\n",
       "    </tr>\n",
       "    <tr>\n",
       "      <th>3</th>\n",
       "      <td>16080</td>\n",
       "      <td>B</td>\n",
       "      <td>318</td>\n",
       "      <td>No</td>\n",
       "    </tr>\n",
       "    <tr>\n",
       "      <th>4</th>\n",
       "      <td>18851</td>\n",
       "      <td>A</td>\n",
       "      <td>338</td>\n",
       "      <td>Yes</td>\n",
       "    </tr>\n",
       "  </tbody>\n",
       "</table>\n",
       "</div>"
      ],
      "text/plain": [
       "   User ID Group  Time Spent Conversion\n",
       "0    14292     B         424         No\n",
       "1    11682     A         342         No\n",
       "2    19825     A         396         No\n",
       "3    16080     B         318         No\n",
       "4    18851     A         338        Yes"
      ]
     },
     "execution_count": 344,
     "metadata": {},
     "output_type": "execute_result"
    }
   ],
   "source": [
    "data.head()"
   ]
  },
  {
   "cell_type": "code",
   "execution_count": 345,
   "id": "0434de59-3899-46da-81e1-13099a35f680",
   "metadata": {},
   "outputs": [
    {
     "data": {
      "text/plain": [
       "<Axes: ylabel='Time Spent'>"
      ]
     },
     "execution_count": 345,
     "metadata": {},
     "output_type": "execute_result"
    },
    {
     "data": {
      "image/png": "[encoded data removed]",
      "text/plain": [
       "<Figure size 400x500 with 1 Axes>"
      ]
     },
     "metadata": {},
     "output_type": "display_data"
    }
   ],
   "source": [
    "plt.figure(figsize=(4, 5))\n",
    "sns.boxplot(data['Time Spent'])"
   ]
  },
  {
   "cell_type": "code",
   "execution_count": 346,
   "id": "ae299601-14af-4891-a07a-2ccd68cf40f2",
   "metadata": {},
   "outputs": [
    {
     "data": {
      "image/png": "[encoded data removed]",
      "text/plain": [
       "<Figure size 1000x600 with 3 Axes>"
      ]
     },
     "metadata": {},
     "output_type": "display_data"
    }
   ],
   "source": [
    "plt.figure(figsize=(10,6))\n",
    "plt.subplot(1,3,1)\n",
    "data['Conversion'].value_counts().plot(kind='pie', autopct='%1.0f%%')\n",
    "plt.axis('off')\n",
    "plt.title('Общая конверсия')\n",
    "plt.subplot(1,3,2)\n",
    "data[data['Group'] == 'A']['Conversion'].value_counts().plot(kind='pie', autopct='%1.0f%%')\n",
    "plt.axis('off')\n",
    "plt.title('Группа А')\n",
    "plt.subplot(1,3,3)\n",
    "data[data['Group'] == 'B']['Conversion'].value_counts().plot(kind='pie', autopct='%1.0f%%')\n",
    "plt.axis('off')\n",
    "plt.title('Группа B')\n",
    "plt.show()"
   ]
  },
  {
   "cell_type": "code",
   "execution_count": 347,
   "id": "7e6ba0db-d351-4596-9afe-3abd7ee8f63f",
   "metadata": {},
   "outputs": [
    {
     "data": {
      "image/png": "[encoded data removed]",
      "text/plain": [
       "<Figure size 300x300 with 1 Axes>"
      ]
     },
     "metadata": {},
     "output_type": "display_data"
    }
   ],
   "source": [
    "plt.figure(figsize=(3,3))\n",
    "data['Group'].value_counts().plot(kind='pie', autopct='%1.0f%%,', startangle=90)\n",
    "plt.title('Соотношение между группами')\n",
    "plt.axis('off')\n",
    "plt.show()"
   ]
  },
  {
   "cell_type": "code",
   "execution_count": 348,
   "id": "5ac77d7a-410b-4b79-8961-ed2da4ed3c13",
   "metadata": {},
   "outputs": [
    {
     "data": {
      "text/plain": [
       "<seaborn.axisgrid.FacetGrid at 0x27264a63c50>"
      ]
     },
     "execution_count": 348,
     "metadata": {},
     "output_type": "execute_result"
    },
    {
     "data": {
      "text/plain": [
       "<Figure size 1000x600 with 0 Axes>"
      ]
     },
     "metadata": {},
     "output_type": "display_data"
    },
    {
     "data": {
      "image/png": "[encoded data removed]",
      "text/plain": [
       "<Figure size 500x500 with 1 Axes>"
      ]
     },
     "metadata": {},
     "output_type": "display_data"
    }
   ],
   "source": [
    "plt.figure(figsize=(10,6)) # проверка распределения\n",
    "sns.displot(data, x='Time Spent', bins=50)"
   ]
  },
  {
   "cell_type": "markdown",
   "id": "2b8f90b4-ad10-479e-a173-c6b880b50c8e",
   "metadata": {},
   "source": [
    "**2) Модификация дата фрейма**"
   ]
  },
  {
   "cell_type": "code",
   "execution_count": 349,
   "id": "82df0e0b-19f2-4e4f-b7af-6eeab7f0e4bf",
   "metadata": {},
   "outputs": [
    {
     "data": {
      "text/html": [
       "<div>\n",
       "<style scoped>\n",
       "    .dataframe tbody tr th:only-of-type {\n",
       "        vertical-align: middle;\n",
       "    }\n",
       "\n",
       "    .dataframe tbody tr th {\n",
       "        vertical-align: top;\n",
       "    }\n",
       "\n",
       "    .dataframe thead th {\n",
       "        text-align: right;\n",
       "    }\n",
       "</style>\n",
       "<table border=\"1\" class=\"dataframe\">\n",
       "  <thead>\n",
       "    <tr style=\"text-align: right;\">\n",
       "      <th></th>\n",
       "      <th>User ID</th>\n",
       "      <th>Group</th>\n",
       "      <th>Time Spent</th>\n",
       "      <th>Conversion</th>\n",
       "      <th>avg_session_time</th>\n",
       "    </tr>\n",
       "  </thead>\n",
       "  <tbody>\n",
       "    <tr>\n",
       "      <th>0</th>\n",
       "      <td>14292</td>\n",
       "      <td>B</td>\n",
       "      <td>424</td>\n",
       "      <td>0</td>\n",
       "      <td>238</td>\n",
       "    </tr>\n",
       "    <tr>\n",
       "      <th>1</th>\n",
       "      <td>11682</td>\n",
       "      <td>A</td>\n",
       "      <td>342</td>\n",
       "      <td>0</td>\n",
       "      <td>328</td>\n",
       "    </tr>\n",
       "    <tr>\n",
       "      <th>2</th>\n",
       "      <td>19825</td>\n",
       "      <td>A</td>\n",
       "      <td>396</td>\n",
       "      <td>0</td>\n",
       "      <td>305</td>\n",
       "    </tr>\n",
       "    <tr>\n",
       "      <th>3</th>\n",
       "      <td>16080</td>\n",
       "      <td>B</td>\n",
       "      <td>318</td>\n",
       "      <td>0</td>\n",
       "      <td>269</td>\n",
       "    </tr>\n",
       "    <tr>\n",
       "      <th>4</th>\n",
       "      <td>18851</td>\n",
       "      <td>A</td>\n",
       "      <td>338</td>\n",
       "      <td>1</td>\n",
       "      <td>326</td>\n",
       "    </tr>\n",
       "  </tbody>\n",
       "</table>\n",
       "</div>"
      ],
      "text/plain": [
       "   User ID Group  Time Spent  Conversion  avg_session_time\n",
       "0    14292     B         424           0               238\n",
       "1    11682     A         342           0               328\n",
       "2    19825     A         396           0               305\n",
       "3    16080     B         318           0               269\n",
       "4    18851     A         338           1               326"
      ]
     },
     "execution_count": 349,
     "metadata": {},
     "output_type": "execute_result"
    }
   ],
   "source": [
    "# генерация столбца avg_session_time\n",
    "# параметры генерации\n",
    "n = len(data)  # определяем количество строк\n",
    "mean_session = 300  # Среднее время сессии в секундах\n",
    "std_session = 50     # Стандартное отклонение\n",
    "\n",
    "# Генерируем данные с нормальным распределением\n",
    "avg_session_time = np.random.normal(loc=mean_session, scale=std_session, size=n)\n",
    "avg_session_time = np.clip(avg_session_time, a_min=10, a_max=600) # удаляем выбросы\n",
    "data['avg_session_time'] = np.round(session_duration).astype(int) # округляем до целых секунд\n",
    "\n",
    "# преобразуем столбец Conversion для более удобной обработки значений\n",
    "data['Conversion'] = data['Conversion'].str.strip().str.lower().map({'yes': 1, 'no': 0}) # data['Conversion'] содержал спец символы\n",
    "data.head()\n"
   ]
  },
  {
   "cell_type": "markdown",
   "id": "dda312e7-2671-4833-84ef-d1888d7ab4d4",
   "metadata": {},
   "source": [
    "**3) Анализ метрик, выбор теста** \n",
    "- conversion  \n",
    "    Бинарная метрика, для демонстрации навыков я применю χ² и Z-тест.  \n",
    "    Оба теста должны показать одинаковые результаты (математически эквивалентны в условиях данного эксперимента)\n",
    "- time_spent  \n",
    "    Непрерывная непараметрическая метрика (проверю тестом Шапиро-Уилка) - U-тест Манна-Уитни\n",
    "- avg_session_time  \n",
    "    Непрерывная метрика с нормальным распределением (изначально генерировал в соответствии с нормальным распределением, проверю тестом Шапиро-Уилка)\n",
    "  "
   ]
  },
  {
   "cell_type": "markdown",
   "id": "b476ef50-371d-4c8b-80c0-759f2c23b231",
   "metadata": {},
   "source": [
    "**4) Формулировка гипотез** \n",
    "- Нулевая (H₀):\n",
    "\"Черный фон не повлиял на поведение пользователей – различия между группами случайны\"\n",
    "\n",
    "- Альтернативная (H₁):\n",
    "\"Черный фон изменил поведение пользователей (разница статистически значима)\""
   ]
  },
  {
   "cell_type": "markdown",
   "id": "97f1babb-a60d-4a64-8c61-8841b9b27a7a",
   "metadata": {},
   "source": [
    "**5) Z-тест**"
   ]
  },
  {
   "cell_type": "code",
   "execution_count": 350,
   "id": "b0e3bb47-6737-42a7-9744-8312f0918e89",
   "metadata": {},
   "outputs": [
    {
     "name": "stdout",
     "output_type": "stream",
     "text": [
      "Условия для проведения теста выполнены\n"
     ]
    }
   ],
   "source": [
    "alpha = 0.05  # исходный уровень значимости\n",
    "significant_level = alpha / 3  # с поправкой Бонферрони\n",
    "\n",
    "successes = [\n",
    "    data[data['Group'] == 'B']['Conversion'].sum(),  # Группа B\n",
    "    data[data['Group'] == 'A']['Conversion'].sum()  # Группа A\n",
    "]\n",
    "\n",
    "nobs = [\n",
    "    len(data[data['Group'] == 'B']),  # Размер группы B\n",
    "    len(data[data['Group'] == 'A'])   # Размер группы A\n",
    "]\n",
    "\n",
    "p_B = successes[0] / nobs[0]\n",
    "p_A = successes[1] / nobs[1]\n",
    "\n",
    "diff = p_B - p_A\n",
    "\n",
    "if ((nobs[0] * p_B > 5 and nobs[0] * (1 - p_B) > 5) and\n",
    "    (nobs[1] * p_A > 5 and nobs[1] * (1 - p_A) > 5)):\n",
    "    print('Условия для проведения теста выполнены')\n",
    "else:\n",
    "    print('Условия для проведения теста не выполнены')"
   ]
  },
  {
   "cell_type": "code",
   "execution_count": 322,
   "id": "b5d1aeb4-4ce1-40c4-8d9c-69ba071e4996",
   "metadata": {},
   "outputs": [
    {
     "name": "stdout",
     "output_type": "stream",
     "text": [
      "Z-статистика = 10.35\n",
      "p-value = 0.0000\n",
      "Разница: 8.67% (B - A)\n",
      "95% ДИ разницы: [7.05%, 10.31%]\n",
      "Отвергаем H₀: B лучше A на 8.67% (ДИ: [7.05%, 10.31%])\n",
      "Результат A/B-теста:\n",
      "- Конверсия: A = 5.4%, B = 14.1%\n",
      "- Прирост конверсии в B: +8.67% (95% ДИ: 7.05%, 10.31%)\n",
      "Вывод: группа B (чёрный фон) достоверно увеличивает конверсию.\n"
     ]
    }
   ],
   "source": [
    "z_stat, p_value = proportions_ztest(successes, nobs, alternative='two-sided')\n",
    "\n",
    "ci_low, ci_high = confint_proportions_2indep(\n",
    "    successes[0], nobs[0],  # Группа B\n",
    "    successes[1], nobs[1]   # Группа A\n",
    ")\n",
    "\n",
    "# Вывод\n",
    "print(f'Z-статистика = {z_stat:.2f}')\n",
    "print(f'p-value = {p_value:.4f}')\n",
    "print(f'Разница: {diff:.2%} (B - A)')\n",
    "print(f\"95% ДИ разницы: [{ci_low:.2%}, {ci_high:.2%}]\")\n",
    "\n",
    "if p_value < significant_level:\n",
    "    print(f'Отвергаем H₀: B лучше A на {diff:.2%} (ДИ: [{ci_low:.2%}, {ci_high:.2%}])')\n",
    "else:\n",
    "    print('Нулевая гипотеза подтверждена')\n",
    "print(\n",
    "    \"Результат A/B-теста:\\n\"\n",
    "    f\"- Конверсия: A = {p_A:.1%}, B = {p_B:.1%}\\n\"\n",
    "    f\"- Прирост конверсии в B: +{diff:.2%} (95% ДИ: {ci_low:.2%}, {ci_high:.2%})\\n\"\n",
    "    \"Вывод: группа B (черный фон) достоверно увеличивает конверсию.\"\n",
    ")"
   ]
  },
  {
   "cell_type": "markdown",
   "id": "57a760d8-f6d5-48e8-879b-df8d59c01150",
   "metadata": {},
   "source": [
    "**6) χ²-тест**"
   ]
  },
  {
   "cell_type": "code",
   "execution_count": 351,
   "id": "d5b92cfd-d7db-4e8c-8a7e-4d150dfcb985",
   "metadata": {},
   "outputs": [
    {
     "name": "stdout",
     "output_type": "stream",
     "text": [
      "χ²-статистика = 106.23\n",
      "p-value = 0.0000\n",
      "Разница: 8.67% (B - A)\n",
      "95% ДИ: [7.05%, 10.31%]\n",
      "Отвергаем H₀: B лучше A на 8.67% (ДИ: [7.05%, 10.31%])\n",
      "Результат A/B-теста:\n",
      "- Конверсия: A = 5.4%, B = 14.1%\n",
      "- Прирост конверсии в B: +8.67% (95% ДИ: 7.05%, 10.31%)\n",
      "Вывод: группа B (черный фон) достоверно увеличивает конверсию.\n"
     ]
    }
   ],
   "source": [
    "# Создаем таблицу сопряженности 2x2\n",
    "\n",
    "contingency_table = np.array([\n",
    "    [successes[0], nobs[0] - successes[0]], # Группа B\n",
    "    [successes[1], nobs[1] - successes[1]] # Группа A\n",
    "    ])\n",
    "\n",
    "chi2_stat, p_value, _, _ = chi2_contingency(contingency_table)\n",
    "\n",
    "ci_low, ci_upp = confint_proportions_2indep(\n",
    "    count1=successes[0], nobs1=nobs[0],\n",
    "    count2=successes[1], nobs2=nobs[1]\n",
    ")\n",
    "\n",
    "\n",
    "print(f'χ²-статистика = {chi2_stat:.2f}')\n",
    "print(f'p-value = {p_value:.4f}')\n",
    "print(f'Разница: {diff:.2%} (B - A)')\n",
    "print(f\"95% ДИ: [{ci_low:.2%}, {ci_high:.2%}]\")\n",
    "\n",
    "if p_value < significant_level:\n",
    "    print(f'Отвергаем H₀: B лучше A на {diff:.2%} (ДИ: [{ci_low:.2%}, {ci_high:.2%}])')\n",
    "else:\n",
    "    print('Нулевая гипотеза подтверждена')\n",
    "print(\n",
    "    \"Результат A/B-теста:\\n\"\n",
    "    f\"- Конверсия: A = {p_A:.1%}, B = {p_B:.1%}\\n\"\n",
    "    f\"- Прирост конверсии в B: +{diff:.2%} (95% ДИ: {ci_low:.2%}, {ci_high:.2%})\\n\"\n",
    "    \"Вывод: группа B (черный фон) достоверно увеличивает конверсию.\"\n",
    ")"
   ]
  },
  {
   "cell_type": "markdown",
   "id": "0b0de025-efd1-4baa-bae3-7e2b6ad59037",
   "metadata": {},
   "source": [
    "Нет никакой разницы в результатах с Z - тестом поскольку χ² для таблицы 2×2 математически эквивалентен Z-тесту для двух пропорций"
   ]
  },
  {
   "cell_type": "markdown",
   "id": "190e0bd1-9303-4ddb-bc8f-8e433cac58d3",
   "metadata": {},
   "source": [
    "**7) t-test**  \n",
    "H₀ - средние значения переменной avg_session_time равны между группами  \n",
    "H₁ - средние значения переменной avg_session_time отличаются между группами"
   ]
  },
  {
   "cell_type": "code",
   "execution_count": 324,
   "id": "3477ebe6-ed8c-48b4-8266-c46e986b5953",
   "metadata": {},
   "outputs": [
    {
     "data": {
      "text/plain": [
       "<seaborn.axisgrid.FacetGrid at 0x27264708cd0>"
      ]
     },
     "execution_count": 324,
     "metadata": {},
     "output_type": "execute_result"
    },
    {
     "data": {
      "text/plain": [
       "<Figure size 1000x600 with 0 Axes>"
      ]
     },
     "metadata": {},
     "output_type": "display_data"
    },
    {
     "data": {
      "image/png": "[encoded data removed]",
      "text/plain": [
       "<Figure size 500x500 with 1 Axes>"
      ]
     },
     "metadata": {},
     "output_type": "display_data"
    }
   ],
   "source": [
    "plt.figure(figsize=(10,6)) # проверка распределения\n",
    "sns.displot(data, x='avg_session_time', bins=20)"
   ]
  },
  {
   "cell_type": "code",
   "execution_count": 325,
   "id": "f92d26fd-b881-44a6-a490-6622a32db15c",
   "metadata": {},
   "outputs": [
    {
     "name": "stdout",
     "output_type": "stream",
     "text": [
      "переменная avg_session_time в группах A и B распределена нормально\n",
      "тест Шапиро-Уилка пройден\n"
     ]
    }
   ],
   "source": [
    "group_A = np.array(data[data['Group'] == 'A']['avg_session_time'])\n",
    "group_B = np.array(data[data['Group'] == 'B']['avg_session_time'])\n",
    "\n",
    "_, p_shapiro_A = shapiro(group_A)\n",
    "_, p_shapiro_B = shapiro(group_B)\n",
    "if (p_shapiro_A > 0.05 and p_shapiro_B > 0.05):\n",
    "    print('переменная avg_session_time в группах A и B распределена нормально')\n",
    "    print('тест Шапиро-Уилка пройден')\n",
    "else:\n",
    "    print('тест Шапиро-Уилка не пройден')"
   ]
  },
  {
   "cell_type": "code",
   "execution_count": 326,
   "id": "32f3ef64-f7da-422e-b6b2-6b16bb17069a",
   "metadata": {},
   "outputs": [
    {
     "name": "stdout",
     "output_type": "stream",
     "text": [
      "дисперсии переменной avg_session_time в группах A и B равны\n",
      "тест Левена пройден\n"
     ]
    }
   ],
   "source": [
    "_, p_levene = levene(group_A, group_B)\n",
    "equal_var = p_levene > 0.05\n",
    "if(equal_var):\n",
    "    print('дисперсии переменной avg_session_time в группах A и B равны')\n",
    "    print('тест Левена пройден')\n",
    "else:\n",
    "    print('тест Левена не пройден')    "
   ]
  },
  {
   "cell_type": "code",
   "execution_count": 327,
   "id": "8eab9873-3f29-4603-b8a2-9f24eab3659b",
   "metadata": {},
   "outputs": [
    {
     "name": "stdout",
     "output_type": "stream",
     "text": [
      "t-статистика = 0.474, p-value = 0.635\n",
      "Недостаточно данных для отклонения H0.\n"
     ]
    }
   ],
   "source": [
    "t_stat, p_value = ttest_ind(group_A, group_B, equal_var=equal_var)\n",
    "\n",
    "print(f't-статистика = {t_stat:.3f}, p-value = {p_value:.3f}')\n",
    "if p_value < significant_level:\n",
    "    print(\"Отклоняем H0: средние различаются.\")\n",
    "else:\n",
    "    print(\"Недостаточно данных для отклонения H0.\")"
   ]
  },
  {
   "cell_type": "code",
   "execution_count": 328,
   "id": "dd749166-e30d-418a-9e1e-bea357ce0387",
   "metadata": {},
   "outputs": [
    {
     "name": "stdout",
     "output_type": "stream",
     "text": [
      "Cohen's d = 0.013\n"
     ]
    }
   ],
   "source": [
    "# расчет размера эффекта (Cohen's d)\n",
    "pooled_std = np.sqrt(((len(group_A)-1)*np.var(group_A, ddof=1) + \n",
    "                     (len(group_B)-1)*np.var(group_B, ddof=1)) / \n",
    "                     (len(group_A) + len(group_B) - 2))\n",
    "d = (np.mean(group_A) - np.mean(group_B)) / pooled_std\n",
    "print(f\"Cohen's d = {abs(d):.3f}\")"
   ]
  },
  {
   "cell_type": "code",
   "execution_count": 329,
   "id": "b1b48d0e-9da3-4aa7-90c2-357a23733fe5",
   "metadata": {},
   "outputs": [
    {
     "name": "stdout",
     "output_type": "stream",
     "text": [
      "95% ДИ для разницы средних: [-2.079, 3.406]\n",
      "Разница средних (A - B) = 0.664\n"
     ]
    }
   ],
   "source": [
    "cm = CompareMeans.from_data(group_A, group_B)\n",
    "mean_diff = np.mean(group_A) - np.mean(group_B)\n",
    "\n",
    "# Доверительный интервал для разницы средних (по умолчанию 95%)\n",
    "ci_lower, ci_upper = cm.tconfint_diff(usevar='pooled')\n",
    "\n",
    "print(f'95% ДИ для разницы средних: [{ci_lower:.3f}, {ci_upper:.3f}]')\n",
    "print(f'Разница средних (A - B) = {mean_diff:.3f}')"
   ]
  },
  {
   "cell_type": "markdown",
   "id": "39d70080-b8c7-42e5-aa03-bc75747a5934",
   "metadata": {},
   "source": [
    "Разница в среднем времени сессии между группами статистически незначима (p = 0.635),  \n",
    "при этом размер эффекта крайне мал (Cohen's d = 0.013)"
   ]
  },
  {
   "cell_type": "markdown",
   "id": "44dc231d-70b4-46dd-9fbe-cfb3a79f185b",
   "metadata": {},
   "source": [
    "**8) U-тест Манна-Уитни**"
   ]
  },
  {
   "cell_type": "code",
   "execution_count": 330,
   "id": "a801a50b-6062-4bc6-9e8b-1e7e2df70697",
   "metadata": {},
   "outputs": [
    {
     "name": "stdout",
     "output_type": "stream",
     "text": [
      "тест Шапиро-Уилка не пройден\n"
     ]
    }
   ],
   "source": [
    "group_A = np.array(data[data['Group'] == 'A']['Time Spent'])\n",
    "group_B = np.array(data[data['Group'] == 'B']['Time Spent'])\n",
    "\n",
    "_, p_value_A = shapiro(group_A)\n",
    "_, p_value_B = shapiro(group_B)\n",
    "if (p_value_A > 0.05 and p_value_B > 0.05):\n",
    "    print('переменная avg_session_time в группах A и B распределена нормально')\n",
    "    print('тест Шапиро-Уилка пройден')\n",
    "else:\n",
    "    print('тест Шапиро-Уилка не пройден')"
   ]
  },
  {
   "cell_type": "code",
   "execution_count": 331,
   "id": "8788ae82-d41d-426f-a14e-6c16fe337e99",
   "metadata": {},
   "outputs": [
    {
     "name": "stdout",
     "output_type": "stream",
     "text": [
      "U-статистика = 3101095.00, p-value = 0.6420\n",
      "Не отвергаем H₀: различия незначимы (p ≥ 0.05)\n",
      "\n",
      "Медиана группы A = 241.00\n",
      "Медиана группы B = 244.00\n",
      "Разница медиан (A - B) = -3.00\n"
     ]
    }
   ],
   "source": [
    "stat, p_value = mannwhitneyu(group_A, group_B, alternative='two-sided')\n",
    "\n",
    "print(f'U-статистика = {stat:.2f}, p-value = {p_value:.4f}')\n",
    "\n",
    "if p_value < significant_level:\n",
    "    print(\"Отвергаем H₀: распределения в группах значимо различаются (p < 0.05)\")\n",
    "else:\n",
    "    print('Не отвергаем H₀: различия незначимы (p ≥ 0.05)')\n",
    "\n",
    "# Дополнительно: сравнение медиан\n",
    "print(f'\\nМедиана группы A = {np.median(group_A):.2f}')\n",
    "print(f'Медиана группы B = {np.median(group_B):.2f}')\n",
    "print(f'Разница медиан (A - B) = {np.median(group_A) - np.median(group_B):.2f}')"
   ]
  },
  {
   "cell_type": "markdown",
   "id": "33ad35ea-85c4-4e14-b6c3-da609248f4cb",
   "metadata": {},
   "source": [
    "# Результаты\n",
    "Z- тест и χ²-тест показали статистически значимую разницу в конверсии между группами.  \n",
    "t-test и U - тест показали незначительные различия между исследуемыми метриками.  \n",
    "\n",
    "**Рекомендация**: Внедрить изменения из группы B — они улучшают конверсию, не ухудшая другие метрики. Рост конверсии составил 8.67%. (95% ДИ: 7.05%, 10.31%)\n",
    "\n",
    "**PS** Несмотря на то, что условие задачи требовало проведения χ² теста, в реальных условиях я бы воспользовался Z- тестом. χ² больше подходит для категориальных данных."
   ]
  }
 ],
 "metadata": {
  "kernelspec": {
   "display_name": "Python 3 (ipykernel)",
   "language": "python",
   "name": "python3"
  },
  "language_info": {
   "codemirror_mode": {
    "name": "ipython",
    "version": 3
   },
   "file_extension": ".py",
   "mimetype": "text/x-python",
   "name": "python",
   "nbconvert_exporter": "python",
   "pygments_lexer": "ipython3",
   "version": "3.13.2"
  }
 },
 "nbformat": 4,
 "nbformat_minor": 5
}
